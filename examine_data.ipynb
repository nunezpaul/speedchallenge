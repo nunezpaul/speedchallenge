{
 "cells": [
  {
   "cell_type": "code",
   "execution_count": 20,
   "metadata": {},
   "outputs": [],
   "source": [
    "import numpy as np\n",
    "import pandas as pd\n",
    "\n",
    "import matplotlib.pyplot as plt"
   ]
  },
  {
   "cell_type": "code",
   "execution_count": 13,
   "metadata": {},
   "outputs": [],
   "source": [
    "file = 'data/train.txt'\n",
    "data = pd.read_csv(file, header=None)\n",
    "data.columns = ['Speed']"
   ]
  },
  {
   "cell_type": "code",
   "execution_count": 39,
   "metadata": {},
   "outputs": [
    {
     "data": {
      "text/html": [
       "<div>\n",
       "<style scoped>\n",
       "    .dataframe tbody tr th:only-of-type {\n",
       "        vertical-align: middle;\n",
       "    }\n",
       "\n",
       "    .dataframe tbody tr th {\n",
       "        vertical-align: top;\n",
       "    }\n",
       "\n",
       "    .dataframe thead th {\n",
       "        text-align: right;\n",
       "    }\n",
       "</style>\n",
       "<table border=\"1\" class=\"dataframe\">\n",
       "  <thead>\n",
       "    <tr style=\"text-align: right;\">\n",
       "      <th></th>\n",
       "      <th>Speed</th>\n",
       "    </tr>\n",
       "  </thead>\n",
       "  <tbody>\n",
       "    <tr>\n",
       "      <th>0</th>\n",
       "      <td>28.105569</td>\n",
       "    </tr>\n",
       "    <tr>\n",
       "      <th>1</th>\n",
       "      <td>28.105569</td>\n",
       "    </tr>\n",
       "    <tr>\n",
       "      <th>2</th>\n",
       "      <td>28.106527</td>\n",
       "    </tr>\n",
       "    <tr>\n",
       "      <th>3</th>\n",
       "      <td>28.130404</td>\n",
       "    </tr>\n",
       "    <tr>\n",
       "      <th>4</th>\n",
       "      <td>28.109243</td>\n",
       "    </tr>\n",
       "  </tbody>\n",
       "</table>\n",
       "</div>"
      ],
      "text/plain": [
       "       Speed\n",
       "0  28.105569\n",
       "1  28.105569\n",
       "2  28.106527\n",
       "3  28.130404\n",
       "4  28.109243"
      ]
     },
     "execution_count": 39,
     "metadata": {},
     "output_type": "execute_result"
    }
   ],
   "source": [
    "data.head()"
   ]
  },
  {
   "cell_type": "code",
   "execution_count": 38,
   "metadata": {},
   "outputs": [
    {
     "data": {
      "image/png": "[encoded data removed]",
      "text/plain": [
       "<Figure size 432x288 with 1 Axes>"
      ]
     },
     "metadata": {
      "needs_background": "light"
     },
     "output_type": "display_data"
    }
   ],
   "source": [
    "data.hist(bins=30)\n",
    "plt.show()"
   ]
  },
  {
   "cell_type": "code",
   "execution_count": 42,
   "metadata": {},
   "outputs": [
    {
     "name": "stdout",
     "output_type": "stream",
     "text": [
      "Speed    0.087109\n",
      "dtype: float64\n"
     ]
    }
   ],
   "source": [
    "# Minimum MSE for perfect categorical prediction with 30 categories\n",
    "discrete_data = data.astype(int)\n",
    "squared_error = np.square(data - (discrete_data + 0.5))\n",
    "print(squared_error.mean())"
   ]
  },
  {
   "cell_type": "code",
   "execution_count": 53,
   "metadata": {},
   "outputs": [
    {
     "name": "stdout",
     "output_type": "stream",
     "text": [
      "Speed    0.391893\n",
      "dtype: float64\n"
     ]
    }
   ],
   "source": [
    "# Minimum MSE for perfect categorical prediction with 15 categories\n",
    "squared_error = np.square(data - (data // 2 + 0.5) * 2)\n",
    "print(squared_error.mean())"
   ]
  },
  {
   "cell_type": "code",
   "execution_count": 71,
   "metadata": {},
   "outputs": [
    {
     "name": "stdout",
     "output_type": "stream",
     "text": [
      "Min MSE for bucket_size of 1 or 30 categories:  0.0871089472982928\n",
      "Min MSE for bucket_size of 2 or 15 categories:  0.3918926574453516\n",
      "Min MSE for bucket_size of 3 or 10 categories:  0.7142678601414301\n",
      "Min MSE for bucket_size of 5 or 6 categories:  1.9802200240629988\n",
      "Min MSE for bucket_size of 6 or 5 categories:  3.0876942629355475\n",
      "Min MSE for bucket_size of 10 or 3 categories:  8.283760465484567\n",
      "Min MSE for bucket_size of 15 or 2 categories:  15.290436411317902\n",
      "Min MSE for bucket_size of 30 or 1 categories:  75.28212060470025\n"
     ]
    }
   ],
   "source": [
    "# Minimum MSE for perfect categorical predictions with N categories\n",
    "for bucket_size in (1, 2, 3, 5, 6, 10, 15, 30):\n",
    "    squared_error = np.square(data - (data // bucket_size + 0.5) * bucket_size)\n",
    "    mean_squared_error = squared_error.mean().values[0]\n",
    "    num_cats = 30 // bucket_size\n",
    "    print(f\"Min MSE for bucket_size of {bucket_size} or {num_cats} categories: \", mean_squared_error)"
   ]
  },
  {
   "cell_type": "markdown",
   "metadata": {},
   "source": [
    "From looking at the resulting MSE for doing categorical predictions, 10 seems like a good number to shoot for. The 10 categories will be\n",
    "     Range      (Center)\n",
    "     \n",
    "    [00 03)  ->   01.5\n",
    "    [03 06)  ->   04.5\n",
    "    [06 09)  ->   07.5\n",
    "    [09 12)  ->   10.5\n",
    "    [12 15)  ->   13.5\n",
    "    [15 18)  ->   16.5\n",
    "    [18 21)  ->   19.5\n",
    "    [21 24)  ->   21.5\n",
    "    [24 27)  ->   24.5\n",
    "    [27 30)  ->   27.5"
   ]
  },
  {
   "cell_type": "code",
   "execution_count": 64,
   "metadata": {},
   "outputs": [
    {
     "data": {
      "image/png": "[encoded data removed]",
      "text/plain": [
       "<Figure size 432x288 with 1 Axes>"
      ]
     },
     "metadata": {
      "needs_background": "light"
     },
     "output_type": "display_data"
    }
   ],
   "source": [
    "data.hist(bins=10)\n",
    "plt.show()"
   ]
  },
  {
   "cell_type": "code",
   "execution_count": null,
   "metadata": {},
   "outputs": [],
   "source": []
  }
 ],
 "metadata": {
  "kernelspec": {
   "display_name": "Python 3",
   "language": "python",
   "name": "python3"
  },
  "language_info": {
   "codemirror_mode": {
    "name": "ipython",
    "version": 3
   },
   "file_extension": ".py",
   "mimetype": "text/x-python",
   "name": "python",
   "nbconvert_exporter": "python",
   "pygments_lexer": "ipython3",
   "version": "3.6.3"
  }
 },
 "nbformat": 4,
 "nbformat_minor": 2
}
